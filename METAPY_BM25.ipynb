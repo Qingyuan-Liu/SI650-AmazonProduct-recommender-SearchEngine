{
  "nbformat": 4,
  "nbformat_minor": 0,
  "metadata": {
    "colab": {
      "name": "METAPY-BM25.ipynb",
      "provenance": [],
      "collapsed_sections": [],
      "include_colab_link": true
    },
    "kernelspec": {
      "display_name": "Python 3",
      "language": "python",
      "name": "python3"
    },
    "language_info": {
      "codemirror_mode": {
        "name": "ipython",
        "version": 3
      },
      "file_extension": ".py",
      "mimetype": "text/x-python",
      "name": "python",
      "nbconvert_exporter": "python",
      "pygments_lexer": "ipython3",
      "version": "3.7.3"
    }
  },
  "cells": [
    {
      "cell_type": "markdown",
      "metadata": {
        "id": "view-in-github",
        "colab_type": "text"
      },
      "source": [
        "<a href=\"https://colab.research.google.com/github/Leah-Wu/SI650/blob/main/METAPY_BM25.ipynb\" target=\"_parent\"><img src=\"https://colab.research.google.com/assets/colab-badge.svg\" alt=\"Open In Colab\"/></a>"
      ]
    },
    {
      "cell_type": "markdown",
      "metadata": {
        "id": "vzVM-vqb8PTO"
      },
      "source": [
        "# BM25"
      ]
    },
    {
      "cell_type": "markdown",
      "metadata": {
        "id": "rUBo2NJSDMtM"
      },
      "source": [
        " install metapy, import and download dataset "
      ]
    },
    {
      "cell_type": "code",
      "metadata": {
        "id": "XjUUOguhUCgE",
        "colab": {
          "base_uri": "https://localhost:8080/"
        },
        "outputId": "3d45d74e-0763-474f-edaf-ce385d98298b"
      },
      "source": [
        "!pip install metapy\n",
        "import metapy\n",
        "import pandas as pd\n",
        "import json\n",
        "import os\n",
        "import math\n",
        "import ast"
      ],
      "execution_count": 8,
      "outputs": [
        {
          "output_type": "stream",
          "text": [
            "Requirement already satisfied: metapy in /usr/local/lib/python3.6/dist-packages (0.2.13)\n"
          ],
          "name": "stdout"
        }
      ]
    },
    {
      "cell_type": "code",
      "metadata": {
        "colab": {
          "base_uri": "https://localhost:8080/"
        },
        "id": "nnvbfHMQqk4I",
        "outputId": "0c9426df-e5a8-4c80-b39d-099a124143fc"
      },
      "source": [
        "!wget -nc http://snap.stanford.edu/data/amazon/productGraph/categoryFiles/reviews_Electronics_5.json.gz\n",
        "!wget -nc http://snap.stanford.edu/data/amazon/productGraph/categoryFiles/meta_Electronics.json.gz\n",
        "!gzip -d reviews_Electronics_5.json.gz\n",
        "!gzip -d meta_Electronics.json.gz"
      ],
      "execution_count": 2,
      "outputs": [
        {
          "output_type": "stream",
          "text": [
            "--2020-12-11 20:47:38--  http://snap.stanford.edu/data/amazon/productGraph/categoryFiles/reviews_Electronics_5.json.gz\n",
            "Resolving snap.stanford.edu (snap.stanford.edu)... 171.64.75.80\n",
            "Connecting to snap.stanford.edu (snap.stanford.edu)|171.64.75.80|:80... connected.\n",
            "HTTP request sent, awaiting response... 200 OK\n",
            "Length: 495854086 (473M) [application/x-gzip]\n",
            "Saving to: ‘reviews_Electronics_5.json.gz’\n",
            "\n",
            "reviews_Electronics 100%[===================>] 472.88M  3.94MB/s    in 90s     \n",
            "\n",
            "2020-12-11 20:49:08 (5.26 MB/s) - ‘reviews_Electronics_5.json.gz’ saved [495854086/495854086]\n",
            "\n",
            "--2020-12-11 20:49:08--  http://snap.stanford.edu/data/amazon/productGraph/categoryFiles/meta_Electronics.json.gz\n",
            "Resolving snap.stanford.edu (snap.stanford.edu)... 171.64.75.80\n",
            "Connecting to snap.stanford.edu (snap.stanford.edu)|171.64.75.80|:80... connected.\n",
            "HTTP request sent, awaiting response... 200 OK\n",
            "Length: 186594679 (178M) [application/x-gzip]\n",
            "Saving to: ‘meta_Electronics.json.gz’\n",
            "\n",
            "meta_Electronics.js 100%[===================>] 177.95M  4.76MB/s    in 29s     \n",
            "\n",
            "2020-12-11 20:49:37 (6.19 MB/s) - ‘meta_Electronics.json.gz’ saved [186594679/186594679]\n",
            "\n"
          ],
          "name": "stdout"
        }
      ]
    },
    {
      "cell_type": "code",
      "metadata": {
        "colab": {
          "base_uri": "https://localhost:8080/"
        },
        "id": "it_4TQd4PJxg",
        "outputId": "0a4981d0-d300-4231-f0d6-95b30dbdce25"
      },
      "source": [
        "!wget -nc https://github.com/Leah-Wu/SI650/raw/main/review_data.zip\n",
        "!wget -nc https://raw.githubusercontent.com/meta-toolkit/meta/master/data/lemur-stopwords.txt\n",
        "!unzip review_data.zip"
      ],
      "execution_count": 14,
      "outputs": [
        {
          "output_type": "stream",
          "text": [
            "--2020-12-11 21:05:44--  https://github.com/Leah-Wu/SI650/raw/main/review_data.zip\n",
            "Resolving github.com (github.com)... 192.30.255.112\n",
            "Connecting to github.com (github.com)|192.30.255.112|:443... connected.\n",
            "HTTP request sent, awaiting response... 302 Found\n",
            "Location: https://raw.githubusercontent.com/Leah-Wu/SI650/main/review_data.zip [following]\n",
            "--2020-12-11 21:05:45--  https://raw.githubusercontent.com/Leah-Wu/SI650/main/review_data.zip\n",
            "Resolving raw.githubusercontent.com (raw.githubusercontent.com)... 151.101.0.133, 151.101.64.133, 151.101.128.133, ...\n",
            "Connecting to raw.githubusercontent.com (raw.githubusercontent.com)|151.101.0.133|:443... connected.\n",
            "HTTP request sent, awaiting response... 200 OK\n",
            "Length: 1865208 (1.8M) [application/zip]\n",
            "Saving to: ‘review_data.zip’\n",
            "\n",
            "review_data.zip     100%[===================>]   1.78M  --.-KB/s    in 0.09s   \n",
            "\n",
            "2020-12-11 21:05:45 (20.2 MB/s) - ‘review_data.zip’ saved [1865208/1865208]\n",
            "\n",
            "File ‘lemur-stopwords.txt’ already there; not retrieving.\n",
            "\n",
            "Archive:  review_data.zip\n",
            "replace __MACOSX/._review_data? [y]es, [n]o, [A]ll, [N]one, [r]ename: A\n",
            "  inflating: __MACOSX/._review_data  \n",
            "  inflating: review_data/.DS_Store   \n",
            "  inflating: __MACOSX/review_data/._.DS_Store  \n",
            "  inflating: review_data/tutorial.toml  \n",
            "  inflating: review_data/line.toml   \n",
            "  inflating: review_data/test-queries.txt  \n",
            "  inflating: __MACOSX/review_data/._test-queries.txt  \n",
            "  inflating: review_data/review_data.dat  \n",
            "  inflating: __MACOSX/review_data/._review_data.dat  \n"
          ],
          "name": "stdout"
        }
      ]
    },
    {
      "cell_type": "markdown",
      "metadata": {
        "id": "0VAKB2Bh8VJ9"
      },
      "source": [
        "Build up dataset"
      ]
    },
    {
      "cell_type": "code",
      "metadata": {
        "id": "sVTCYnY2jNAr"
      },
      "source": [
        "def merge_data(reviews_json_file, meta_json_file):\n",
        "  reviews_Musical_Instruments_5 = pd.read_json(reviews_json_file,lines=True)\n",
        "  meta_list = []\n",
        "  with open(meta_json_file) as f:\n",
        "    for line in f.readlines():\n",
        "      line = json.dumps(ast.literal_eval(line))\n",
        "      d = json.loads(line)\n",
        "      if 'title' not in d:\n",
        "        continue\n",
        "      else:\n",
        "        title = d['title']\n",
        "        product_id = d['asin']\n",
        "        img_url = d['imUrl']\n",
        "    \n",
        "        meta = []\n",
        "        \n",
        "        meta.append(product_id)\n",
        "        meta.append(title)\n",
        "        meta.append(img_url)\n",
        "\n",
        "        meta_list.append(meta)\n",
        "  column_names = ['asin','title','image_url']\n",
        "  meta = pd.DataFrame(meta_list, columns=column_names)\n",
        "  entire_merged_df = reviews_Musical_Instruments_5[['asin','overall','reviewerID','reviewText']].merge(meta[['asin', 'title','image_url']], on='asin', how='inner')\n",
        "  entire_merged_df['reviewText'] = entire_merged_df['reviewText'].str.lower()\n",
        "  return entire_merged_df"
      ],
      "execution_count": 9,
      "outputs": []
    },
    {
      "cell_type": "code",
      "metadata": {
        "colab": {
          "base_uri": "https://localhost:8080/"
        },
        "id": "P_PmeUgtjaoN",
        "outputId": "647dd340-113b-49c4-db1b-b34cad10474c"
      },
      "source": [
        "reviews_json_file = 'reviews_Electronics_5.json'\n",
        "meta_json_file = 'meta_Electronics.json'\n",
        "df = merge_data(reviews_json_file, meta_json_file)\n",
        "df.info()"
      ],
      "execution_count": 10,
      "outputs": [
        {
          "output_type": "stream",
          "text": [
            "<class 'pandas.core.frame.DataFrame'>\n",
            "Int64Index: 1643686 entries, 0 to 1643685\n",
            "Data columns (total 6 columns):\n",
            " #   Column      Non-Null Count    Dtype \n",
            "---  ------      --------------    ----- \n",
            " 0   asin        1643686 non-null  object\n",
            " 1   overall     1643686 non-null  int64 \n",
            " 2   reviewerID  1643686 non-null  object\n",
            " 3   reviewText  1643686 non-null  object\n",
            " 4   title       1643686 non-null  object\n",
            " 5   image_url   1643686 non-null  object\n",
            "dtypes: int64(1), object(5)\n",
            "memory usage: 87.8+ MB\n"
          ],
          "name": "stdout"
        }
      ]
    },
    {
      "cell_type": "markdown",
      "metadata": {
        "id": "ZgzUDVAv8bcP"
      },
      "source": [
        "Set up configuration file for metapy ranking"
      ]
    },
    {
      "cell_type": "code",
      "metadata": {
        "id": "Tauo6CDXsoHJ"
      },
      "source": [
        "def get_dat_file(df):\n",
        "    data = df['reviewText']\n",
        "    data.to_csv('review_data/review_data.dat', index=False)"
      ],
      "execution_count": 15,
      "outputs": []
    },
    {
      "cell_type": "code",
      "metadata": {
        "id": "PPRqZF7glfDV"
      },
      "source": [
        "asin_review_df = df[['asin','reviewText']]\n",
        "get_dat_file(df)"
      ],
      "execution_count": 16,
      "outputs": []
    },
    {
      "cell_type": "code",
      "metadata": {
        "id": "6gzjpm3vDbN9",
        "colab": {
          "base_uri": "https://localhost:8080/"
        },
        "outputId": "64c09cb6-b5a3-4247-b642-dd04f8834c0e"
      },
      "source": [
        "from google.colab import drive\n",
        "drive.mount('/content/drive')"
      ],
      "execution_count": 17,
      "outputs": [
        {
          "output_type": "stream",
          "text": [
            "Mounted at /content/drive\n"
          ],
          "name": "stdout"
        }
      ]
    },
    {
      "cell_type": "code",
      "metadata": {
        "id": "_wzWPAGEU2Bb"
      },
      "source": [
        "with open('review_data/tutorial.toml', 'w') as f:\n",
        "    f.write('type = \"line-corpus\"\\n')\n",
        "    f.write('store-full-text = true\\n')\n",
        "\n",
        "config = \"\"\"prefix = \".\" # tells MeTA where to search for datasets\n",
        "\n",
        "dataset = \"review_data\" # a subfolder under the prefix directory\n",
        "corpus = \"tutorial.toml\" # a configuration file for the corpus specifying its format & additional args\n",
        "\n",
        "index = \"review-idx\" # subfolder of the current working directory to place index files\n",
        "\n",
        "query-judgements = \"review_data/test-qrels.txt\" # file containing the relevance judgments for this dataset\n",
        "\n",
        "stop-words = \"lemur-stopwords.txt\"\n",
        "\n",
        "[[analyzers]]\n",
        "method = \"ngram-word\"\n",
        "ngram = 1\n",
        "filter = \"default-unigram-chain\"\n",
        "\"\"\"\n",
        "with open('review-config.toml', 'w') as f:\n",
        "    f.write(config)"
      ],
      "execution_count": 18,
      "outputs": []
    },
    {
      "cell_type": "markdown",
      "metadata": {
        "id": "AhIgsn6lDMtV"
      },
      "source": [
        " Build the inverted index with metapy and get reviews with similarities sort"
      ]
    },
    {
      "cell_type": "code",
      "metadata": {
        "id": "ztJSZMExVkMW"
      },
      "source": [
        "inv_idx = metapy.index.make_inverted_index('review-config.toml') "
      ],
      "execution_count": 19,
      "outputs": []
    },
    {
      "cell_type": "code",
      "metadata": {
        "id": "4L9nOa6BVrPF"
      },
      "source": [
        "#Original Okapi BM25 performance\n",
        "ranker = metapy.index.OkapiBM25(k1 = 1.2, b = 0.75, k3 = 500)\n",
        "count = len(open('review_data/review_data.dat').readlines( ))\n",
        "num_results = count\n",
        "retrieval_results = []\n",
        "query_list = []\n",
        "with open('review_data/test-queries.txt') as query_file:\n",
        "    for query_num, line in enumerate(query_file):\n",
        "        query = metapy.index.Document()\n",
        "        query.content(line.strip())\n",
        "        query_list.append((query_num + 1, query.content()))\n",
        "        results = ranker.score(inv_idx, query, num_results)  \n",
        "        res_list = [(query_num + 1, x[0]) for x in results]\n",
        "        retrieval_results += res_list"
      ],
      "execution_count": 24,
      "outputs": []
    },
    {
      "cell_type": "code",
      "metadata": {
        "colab": {
          "base_uri": "https://localhost:8080/"
        },
        "id": "P4O9rlGutEeN",
        "outputId": "d85bd248-1f8d-44d5-f26a-fa2a70158492"
      },
      "source": [
        "query_df = pd.DataFrame(query_list, columns=[\"queryid\", \"query_text\"])\n",
        "query_df.info()"
      ],
      "execution_count": 26,
      "outputs": [
        {
          "output_type": "stream",
          "text": [
            "<class 'pandas.core.frame.DataFrame'>\n",
            "RangeIndex: 20 entries, 0 to 19\n",
            "Data columns (total 2 columns):\n",
            " #   Column      Non-Null Count  Dtype \n",
            "---  ------      --------------  ----- \n",
            " 0   queryid     20 non-null     int64 \n",
            " 1   query_text  20 non-null     object\n",
            "dtypes: int64(1), object(1)\n",
            "memory usage: 448.0+ bytes\n"
          ],
          "name": "stdout"
        }
      ]
    },
    {
      "cell_type": "code",
      "metadata": {
        "id": "NcGiaTyYTGrg",
        "colab": {
          "base_uri": "https://localhost:8080/"
        },
        "outputId": "5352a542-8963-4ff1-e646-aac615cbc1df"
      },
      "source": [
        "data = pd.DataFrame(retrieval_results, columns=[\"queryid\", \"docid\"])\n",
        "data.info()"
      ],
      "execution_count": 21,
      "outputs": [
        {
          "output_type": "stream",
          "text": [
            "<class 'pandas.core.frame.DataFrame'>\n",
            "RangeIndex: 5518019 entries, 0 to 5518018\n",
            "Data columns (total 2 columns):\n",
            " #   Column   Dtype\n",
            "---  ------   -----\n",
            " 0   queryid  int64\n",
            " 1   docid    int64\n",
            "dtypes: int64(2)\n",
            "memory usage: 84.2 MB\n"
          ],
          "name": "stdout"
        }
      ]
    },
    {
      "cell_type": "markdown",
      "metadata": {
        "id": "zzc8kfxJ8izW"
      },
      "source": [
        "Convert retrieved products to result csv which can be easy to annotate"
      ]
    },
    {
      "cell_type": "code",
      "metadata": {
        "id": "JFeIqM7vFIkQ",
        "colab": {
          "base_uri": "https://localhost:8080/"
        },
        "outputId": "c5e5d211-629c-4512-9509-d0596eab9c62"
      },
      "source": [
        "merged_data = df\n",
        "num = len(open('review_data/test-queries.txt').readlines( ))\n",
        "res_list=[]\n",
        "for q_id in range(num):\n",
        "  q_id += 1\n",
        "  doc_id_df = data[data['queryid'] == q_id]\n",
        "  d_list = doc_id_df['docid'].tolist()\n",
        "  product_list = []\n",
        "  for loc in d_list:\n",
        "    pd_id = merged_data.iloc[int(loc)]['asin']\n",
        "    if pd_id in product_list: continue\n",
        "    product_list.append(pd_id)\n",
        "    url=\"https://www.amazon.com/dp/\"+str(pd_id)\n",
        "    res_list.append((q_id, pd_id, url))\n",
        "    if len(product_list) == 10: \n",
        "      break \n",
        "\n",
        "res_df = pd.DataFrame(res_list, columns=[\"queryid\",\"productid\",\"product_url\"])\n",
        "res_df.info()"
      ],
      "execution_count": 27,
      "outputs": [
        {
          "output_type": "stream",
          "text": [
            "<class 'pandas.core.frame.DataFrame'>\n",
            "RangeIndex: 200 entries, 0 to 199\n",
            "Data columns (total 3 columns):\n",
            " #   Column       Non-Null Count  Dtype \n",
            "---  ------       --------------  ----- \n",
            " 0   queryid      200 non-null    int64 \n",
            " 1   productid    200 non-null    object\n",
            " 2   product_url  200 non-null    object\n",
            "dtypes: int64(1), object(2)\n",
            "memory usage: 4.8+ KB\n"
          ],
          "name": "stdout"
        }
      ]
    },
    {
      "cell_type": "code",
      "metadata": {
        "colab": {
          "base_uri": "https://localhost:8080/"
        },
        "id": "S_20j4OuuUZ8",
        "outputId": "56b67b73-4fb6-4224-e2a8-a4cfe7a5ad0b"
      },
      "source": [
        "res_with_reviewText_df = res_df[[\"queryid\",\"productid\",\"product_url\"]].merge(query_df[[\"queryid\", \"query_text\"]], on='queryid', how='inner')\n",
        "res_with_reviewText_df.info()"
      ],
      "execution_count": 28,
      "outputs": [
        {
          "output_type": "stream",
          "text": [
            "<class 'pandas.core.frame.DataFrame'>\n",
            "Int64Index: 200 entries, 0 to 199\n",
            "Data columns (total 4 columns):\n",
            " #   Column       Non-Null Count  Dtype \n",
            "---  ------       --------------  ----- \n",
            " 0   queryid      200 non-null    int64 \n",
            " 1   productid    200 non-null    object\n",
            " 2   product_url  200 non-null    object\n",
            " 3   query_text   200 non-null    object\n",
            "dtypes: int64(1), object(3)\n",
            "memory usage: 7.8+ KB\n"
          ],
          "name": "stdout"
        }
      ]
    },
    {
      "cell_type": "code",
      "metadata": {
        "id": "KhOoxm4GO-Kt"
      },
      "source": [
        "res_with_reviewText_df.to_csv(\"bm25-results.csv\")"
      ],
      "execution_count": 29,
      "outputs": []
    },
    {
      "cell_type": "markdown",
      "metadata": {
        "id": "sFpGzS2wxNYk"
      },
      "source": [
        "polarity of dataset:"
      ]
    },
    {
      "cell_type": "code",
      "metadata": {
        "colab": {
          "base_uri": "https://localhost:8080/"
        },
        "id": "0L3f4VbOxQOY",
        "outputId": "311c6a6b-ee7a-464d-befe-ce0fe695ec7f"
      },
      "source": [
        "pip install textblob"
      ],
      "execution_count": 32,
      "outputs": [
        {
          "output_type": "stream",
          "text": [
            "Requirement already satisfied: textblob in /usr/local/lib/python3.6/dist-packages (0.15.3)\n",
            "Requirement already satisfied: nltk>=3.1 in /usr/local/lib/python3.6/dist-packages (from textblob) (3.2.5)\n",
            "Requirement already satisfied: six in /usr/local/lib/python3.6/dist-packages (from nltk>=3.1->textblob) (1.15.0)\n"
          ],
          "name": "stdout"
        }
      ]
    },
    {
      "cell_type": "code",
      "metadata": {
        "id": "AT_rgVwYxaRl"
      },
      "source": [
        "from textblob import TextBlob"
      ],
      "execution_count": 33,
      "outputs": []
    },
    {
      "cell_type": "code",
      "metadata": {
        "colab": {
          "base_uri": "https://localhost:8080/"
        },
        "id": "LBvNas1UxMs3",
        "outputId": "4a3fcd73-bfc2-446c-afa7-108d1db523f7"
      },
      "source": [
        "pol = lambda x: TextBlob(x).sentiment.polarity\n",
        "df['polarity'] = df['reviewText'].apply(pol)\n",
        "df.info()"
      ],
      "execution_count": 34,
      "outputs": [
        {
          "output_type": "stream",
          "text": [
            "<class 'pandas.core.frame.DataFrame'>\n",
            "Int64Index: 1643686 entries, 0 to 1643685\n",
            "Data columns (total 7 columns):\n",
            " #   Column      Non-Null Count    Dtype  \n",
            "---  ------      --------------    -----  \n",
            " 0   asin        1643686 non-null  object \n",
            " 1   overall     1643686 non-null  int64  \n",
            " 2   reviewerID  1643686 non-null  object \n",
            " 3   reviewText  1643686 non-null  object \n",
            " 4   title       1643686 non-null  object \n",
            " 5   image_url   1643686 non-null  object \n",
            " 6   polarity    1643686 non-null  float64\n",
            "dtypes: float64(1), int64(1), object(5)\n",
            "memory usage: 100.3+ MB\n"
          ],
          "name": "stdout"
        }
      ]
    },
    {
      "cell_type": "code",
      "metadata": {
        "colab": {
          "base_uri": "https://localhost:8080/",
          "height": 404
        },
        "id": "-ywzUTJ8xlod",
        "outputId": "667396ae-f8eb-496c-8d3a-0cbaa782d745"
      },
      "source": [
        "import matplotlib.pyplot as plt\n",
        "\n",
        "num_bins = 50\n",
        "plt.figure(figsize=(10,6))\n",
        "n, bins, patches = plt.hist(df.polarity, num_bins, facecolor='blue', alpha=0.5)\n",
        "plt.xlabel('Polarity')\n",
        "plt.ylabel('Number of Reviews')\n",
        "plt.title('Histogram of Polarity Score')\n",
        "plt.show();"
      ],
      "execution_count": 36,
      "outputs": [
        {
          "output_type": "display_data",
          "data": {
            "image/png": "[encoded data removed]",
            "text/plain": [
              "<Figure size 720x432 with 1 Axes>"
            ]
          },
          "metadata": {
            "tags": [],
            "needs_background": "light"
          }
        }
      ]
    },
    {
      "cell_type": "markdown",
      "metadata": {
        "id": "9LN4aBoIr5mD"
      },
      "source": [
        "After annotation, evaluation is in evaluation.ipynb\n",
        "\n"
      ]
    }
  ]
}