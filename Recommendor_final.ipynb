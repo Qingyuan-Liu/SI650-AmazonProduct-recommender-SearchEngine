{
  "nbformat": 4,
  "nbformat_minor": 0,
  "metadata": {
    "colab": {
      "name": "Recommendor_final.ipynb",
      "provenance": [],
      "authorship_tag": "ABX9TyO0R+apfW/Jt0wQOfH1wE0I",
      "include_colab_link": true
    },
    "kernelspec": {
      "name": "python3",
      "display_name": "Python 3"
    }
  },
  "cells": [
    {
      "cell_type": "markdown",
      "metadata": {
        "id": "view-in-github",
        "colab_type": "text"
      },
      "source": [
        "<a href=\"https://colab.research.google.com/github/Leah-Wu/SI650/blob/main/Recommendor_final.ipynb\" target=\"_parent\"><img src=\"https://colab.research.google.com/assets/colab-badge.svg\" alt=\"Open In Colab\"/></a>"
      ]
    },
    {
      "cell_type": "code",
      "metadata": {
        "id": "zP1dDw0R7JI5"
      },
      "source": [
        "import pandas as pd\n",
        "import json\n",
        "import ast\n",
        "import numpy as np \n",
        "import os\n",
        "import seaborn as sns\n",
        "from sklearn.model_selection import train_test_split\n",
        "from sklearn.decomposition import TruncatedSVD"
      ],
      "execution_count": 5,
      "outputs": []
    },
    {
      "cell_type": "code",
      "metadata": {
        "colab": {
          "base_uri": "https://localhost:8080/"
        },
        "id": "hZQHOzFe8_hI",
        "outputId": "e2731ca1-363e-4d6d-95d0-452d0771ec4d"
      },
      "source": [
        "!wget -nc http://snap.stanford.edu/data/amazon/productGraph/categoryFiles/reviews_Electronics_5.json.gz\n",
        "!wget -nc http://snap.stanford.edu/data/amazon/productGraph/categoryFiles/meta_Electronics.json.gz\n",
        "!gzip -d reviews_Electronics_5.json.gz\n",
        "!gzip -d meta_Electronics.json.gz"
      ],
      "execution_count": 1,
      "outputs": [
        {
          "output_type": "stream",
          "text": [
            "--2020-12-11 22:38:17--  http://snap.stanford.edu/data/amazon/productGraph/categoryFiles/reviews_Electronics_5.json.gz\n",
            "Resolving snap.stanford.edu (snap.stanford.edu)... 171.64.75.80\n",
            "Connecting to snap.stanford.edu (snap.stanford.edu)|171.64.75.80|:80... connected.\n",
            "HTTP request sent, awaiting response... 200 OK\n",
            "Length: 495854086 (473M) [application/x-gzip]\n",
            "Saving to: ‘reviews_Electronics_5.json.gz’\n",
            "\n",
            "reviews_Electronics 100%[===================>] 472.88M  7.03MB/s    in 87s     \n",
            "\n",
            "2020-12-11 22:39:45 (5.41 MB/s) - ‘reviews_Electronics_5.json.gz’ saved [495854086/495854086]\n",
            "\n",
            "--2020-12-11 22:39:45--  http://snap.stanford.edu/data/amazon/productGraph/categoryFiles/meta_Electronics.json.gz\n",
            "Resolving snap.stanford.edu (snap.stanford.edu)... 171.64.75.80\n",
            "Connecting to snap.stanford.edu (snap.stanford.edu)|171.64.75.80|:80... connected.\n",
            "HTTP request sent, awaiting response... 200 OK\n",
            "Length: 186594679 (178M) [application/x-gzip]\n",
            "Saving to: ‘meta_Electronics.json.gz’\n",
            "\n",
            "meta_Electronics.js 100%[===================>] 177.95M  9.73MB/s    in 22s     \n",
            "\n",
            "2020-12-11 22:40:07 (8.11 MB/s) - ‘meta_Electronics.json.gz’ saved [186594679/186594679]\n",
            "\n"
          ],
          "name": "stdout"
        }
      ]
    },
    {
      "cell_type": "code",
      "metadata": {
        "colab": {
          "base_uri": "https://localhost:8080/"
        },
        "id": "Ig39Lckv9UPA",
        "outputId": "89cce9b3-c783-47b2-fce7-4b847d4be6ca"
      },
      "source": [
        "!wget -nc http://snap.stanford.edu/data/amazon/productGraph/categoryFiles/ratings_Electronics.csv"
      ],
      "execution_count": 2,
      "outputs": [
        {
          "output_type": "stream",
          "text": [
            "--2020-12-11 22:40:30--  http://snap.stanford.edu/data/amazon/productGraph/categoryFiles/ratings_Electronics.csv\n",
            "Resolving snap.stanford.edu (snap.stanford.edu)... 171.64.75.80\n",
            "Connecting to snap.stanford.edu (snap.stanford.edu)|171.64.75.80|:80... connected.\n",
            "HTTP request sent, awaiting response... 200 OK\n",
            "Length: 318766497 (304M) [text/csv]\n",
            "Saving to: ‘ratings_Electronics.csv’\n",
            "\n",
            "ratings_Electronics 100%[===================>] 304.00M  8.28MB/s    in 49s     \n",
            "\n",
            "2020-12-11 22:41:19 (6.15 MB/s) - ‘ratings_Electronics.csv’ saved [318766497/318766497]\n",
            "\n"
          ],
          "name": "stdout"
        }
      ]
    },
    {
      "cell_type": "code",
      "metadata": {
        "id": "CXOexFHK9XJo"
      },
      "source": [
        "def merge_data(reviews_json_file, meta_json_file):\n",
        "  reviews_Musical_Instruments_5 = pd.read_json(reviews_json_file,lines=True)\n",
        "  meta_list = []\n",
        "  with open(meta_json_file) as f:\n",
        "    for line in f.readlines():\n",
        "      line = json.dumps(ast.literal_eval(line))\n",
        "      d = json.loads(line)\n",
        "      if 'title' not in d:\n",
        "        continue\n",
        "      else:\n",
        "        title = d['title']\n",
        "        product_id = d['asin']\n",
        "        img_url = d['imUrl']\n",
        "    \n",
        "        meta = []\n",
        "        \n",
        "        meta.append(product_id)\n",
        "        meta.append(title)\n",
        "        meta.append(img_url)\n",
        "\n",
        "        meta_list.append(meta)\n",
        "  column_names = ['asin','title','image_url']\n",
        "  meta = pd.DataFrame(meta_list, columns=column_names)\n",
        "  entire_merged_df = reviews_Musical_Instruments_5[['asin','overall','unixReviewTime', 'reviewText']].merge(meta[['asin', 'title','image_url']], on='asin', how='inner')\n",
        "  entire_merged_df['reviewText'] = entire_merged_df['reviewText'].str.lower()\n",
        "  return entire_merged_df"
      ],
      "execution_count": 11,
      "outputs": []
    },
    {
      "cell_type": "code",
      "metadata": {
        "colab": {
          "base_uri": "https://localhost:8080/"
        },
        "id": "q_DMoEBv9cYm",
        "outputId": "2af7f804-3eff-4be5-8878-4a0cecc4e116"
      },
      "source": [
        "reviews_json_file = 'reviews_Electronics_5.json'\n",
        "meta_json_file = 'meta_Electronics.json'\n",
        "df = merge_data(reviews_json_file, meta_json_file)\n",
        "df.info()"
      ],
      "execution_count": 12,
      "outputs": [
        {
          "output_type": "stream",
          "text": [
            "<class 'pandas.core.frame.DataFrame'>\n",
            "Int64Index: 1643686 entries, 0 to 1643685\n",
            "Data columns (total 6 columns):\n",
            " #   Column          Non-Null Count    Dtype \n",
            "---  ------          --------------    ----- \n",
            " 0   asin            1643686 non-null  object\n",
            " 1   overall         1643686 non-null  int64 \n",
            " 2   unixReviewTime  1643686 non-null  int64 \n",
            " 3   reviewText      1643686 non-null  object\n",
            " 4   title           1643686 non-null  object\n",
            " 5   image_url       1643686 non-null  object\n",
            "dtypes: int64(2), object(4)\n",
            "memory usage: 87.8+ MB\n"
          ],
          "name": "stdout"
        }
      ]
    },
    {
      "cell_type": "code",
      "metadata": {
        "id": "KDLdnKof9e1j"
      },
      "source": [
        "def popularity_recommend(merged_df, num):\n",
        "    # get each product's latest released review time\n",
        "    latest_time_df = merged_df[merged_df.groupby('asin')['unixReviewTime'].transform('max') == merged_df['unixReviewTime']]\n",
        "    # get each product's mean rating\n",
        "    filtered_df = merged_df.groupby(['asin','title','image_url'])['overall'].mean()\n",
        "    filtered_df = filtered_df.reset_index(drop=False)\n",
        "    # merge two df and sort by ratings then review time\n",
        "    result = filtered_df[['asin','title','image_url','overall']].merge(latest_time_df[['asin','unixReviewTime']], on='asin', how='inner')\n",
        "    result = result.sort_values(['overall', 'unixReviewTime'], ascending=[False, False])\n",
        "    # each row: asin, title, image_url, overall, unixReviewTime, \n",
        "    return result.head(num)"
      ],
      "execution_count": 8,
      "outputs": []
    },
    {
      "cell_type": "code",
      "metadata": {
        "colab": {
          "base_uri": "https://localhost:8080/",
          "height": 376
        },
        "id": "AE1XUTh39-jY",
        "outputId": "a095765d-6e9d-4438-8bf2-393e912a961c"
      },
      "source": [
        "print(\"Recommend top 10 popular items:\")\n",
        "popularity_recommend(df, 10)"
      ],
      "execution_count": 13,
      "outputs": [
        {
          "output_type": "stream",
          "text": [
            "Recommend top 10 popular items:\n"
          ],
          "name": "stdout"
        },
        {
          "output_type": "execute_result",
          "data": {
            "text/html": [
              "<div>\n",
              "<style scoped>\n",
              "    .dataframe tbody tr th:only-of-type {\n",
              "        vertical-align: middle;\n",
              "    }\n",
              "\n",
              "    .dataframe tbody tr th {\n",
              "        vertical-align: top;\n",
              "    }\n",
              "\n",
              "    .dataframe thead th {\n",
              "        text-align: right;\n",
              "    }\n",
              "</style>\n",
              "<table border=\"1\" class=\"dataframe\">\n",
              "  <thead>\n",
              "    <tr style=\"text-align: right;\">\n",
              "      <th></th>\n",
              "      <th>asin</th>\n",
              "      <th>title</th>\n",
              "      <th>image_url</th>\n",
              "      <th>overall</th>\n",
              "      <th>unixReviewTime</th>\n",
              "    </tr>\n",
              "  </thead>\n",
              "  <tbody>\n",
              "    <tr>\n",
              "      <th>61186</th>\n",
              "      <td>B00FXBKNQC</td>\n",
              "      <td>2 Pack Solid Cordz&amp;reg; Premium 6ft Universal ...</td>\n",
              "      <td>http://ecx.images-amazon.com/images/I/417gtbDq...</td>\n",
              "      <td>5.0</td>\n",
              "      <td>1406073600</td>\n",
              "    </tr>\n",
              "    <tr>\n",
              "      <th>61897</th>\n",
              "      <td>B00HFI55N2</td>\n",
              "      <td>Fotasy APP7800 Self-Retaining Auto Open Close ...</td>\n",
              "      <td>http://ecx.images-amazon.com/images/I/513HmHn5...</td>\n",
              "      <td>5.0</td>\n",
              "      <td>1406073600</td>\n",
              "    </tr>\n",
              "    <tr>\n",
              "      <th>62653</th>\n",
              "      <td>B00JOS04PK</td>\n",
              "      <td>[Apple Certified] NOOT&amp;reg; MFI 1.8M/6ft 8-Pin...</td>\n",
              "      <td>http://ecx.images-amazon.com/images/I/415Zw515...</td>\n",
              "      <td>5.0</td>\n",
              "      <td>1406073600</td>\n",
              "    </tr>\n",
              "    <tr>\n",
              "      <th>56331</th>\n",
              "      <td>B00B502WQ4</td>\n",
              "      <td>DC power jack socket charging port for ASUS A5...</td>\n",
              "      <td>http://ecx.images-amazon.com/images/I/31e59xh-...</td>\n",
              "      <td>5.0</td>\n",
              "      <td>1405987200</td>\n",
              "    </tr>\n",
              "    <tr>\n",
              "      <th>57881</th>\n",
              "      <td>B00CAJOTNI</td>\n",
              "      <td>Philips BTM2180/37 Micro Music System (Black) ...</td>\n",
              "      <td>http://ecx.images-amazon.com/images/I/41FQHqlT...</td>\n",
              "      <td>5.0</td>\n",
              "      <td>1405987200</td>\n",
              "    </tr>\n",
              "    <tr>\n",
              "      <th>59347</th>\n",
              "      <td>B00DJERLFG</td>\n",
              "      <td>Ubiquiti Networks UniFi PRO Enterprise WiFi Sy...</td>\n",
              "      <td>http://ecx.images-amazon.com/images/I/41Yr%2BM...</td>\n",
              "      <td>5.0</td>\n",
              "      <td>1405987200</td>\n",
              "    </tr>\n",
              "    <tr>\n",
              "      <th>61352</th>\n",
              "      <td>B00G9G76PQ</td>\n",
              "      <td>Nikon ML-L3 Wireless Remote Control with Stora...</td>\n",
              "      <td>http://ecx.images-amazon.com/images/I/51OMtRKE...</td>\n",
              "      <td>5.0</td>\n",
              "      <td>1405987200</td>\n",
              "    </tr>\n",
              "    <tr>\n",
              "      <th>61633</th>\n",
              "      <td>B00GS0O5RU</td>\n",
              "      <td>Xperitus BOS-26U Hi-Speed Quality Micro USB To...</td>\n",
              "      <td>http://ecx.images-amazon.com/images/I/51WfBady...</td>\n",
              "      <td>5.0</td>\n",
              "      <td>1405987200</td>\n",
              "    </tr>\n",
              "    <tr>\n",
              "      <th>62030</th>\n",
              "      <td>B00HPPI0W8</td>\n",
              "      <td>Brainwavz Large Hard Headphone Case - Suitable...</td>\n",
              "      <td>http://ecx.images-amazon.com/images/I/413tk3sR...</td>\n",
              "      <td>5.0</td>\n",
              "      <td>1405987200</td>\n",
              "    </tr>\n",
              "    <tr>\n",
              "      <th>62187</th>\n",
              "      <td>B00I0D81OG</td>\n",
              "      <td>Sapphire Radeon R9 270 2GB GDDR5 DVI-I/DVI-D/H...</td>\n",
              "      <td>http://ecx.images-amazon.com/images/I/41yrOc30...</td>\n",
              "      <td>5.0</td>\n",
              "      <td>1405987200</td>\n",
              "    </tr>\n",
              "  </tbody>\n",
              "</table>\n",
              "</div>"
            ],
            "text/plain": [
              "             asin  ... unixReviewTime\n",
              "61186  B00FXBKNQC  ...     1406073600\n",
              "61897  B00HFI55N2  ...     1406073600\n",
              "62653  B00JOS04PK  ...     1406073600\n",
              "56331  B00B502WQ4  ...     1405987200\n",
              "57881  B00CAJOTNI  ...     1405987200\n",
              "59347  B00DJERLFG  ...     1405987200\n",
              "61352  B00G9G76PQ  ...     1405987200\n",
              "61633  B00GS0O5RU  ...     1405987200\n",
              "62030  B00HPPI0W8  ...     1405987200\n",
              "62187  B00I0D81OG  ...     1405987200\n",
              "\n",
              "[10 rows x 5 columns]"
            ]
          },
          "metadata": {
            "tags": []
          },
          "execution_count": 13
        }
      ]
    },
    {
      "cell_type": "code",
      "metadata": {
        "id": "UYa9yTpU9ght"
      },
      "source": [
        "def get_rating_matrix(rating_file_name):\n",
        "    df = pd.read_csv(rating_file_name,names=['userId', 'productId','Rating','timestamp'])\n",
        "    df.drop(['timestamp'], axis=1,inplace=True)\n",
        "    # ###Check the distribution of the rating\n",
        "    # with sns.axes_style('white'):\n",
        "    #     g = sns.factorplot(\"Rating\", data=df, aspect=2.0,kind='count')\n",
        "    #     g.set_ylabels(\"Total number of ratings\")\n",
        "\n",
        "    #Getting the new dataframe which contains users who has given 50 or more ratings\n",
        "    new_df=df.groupby(\"productId\").filter(lambda x : x['Rating'].count() >= 50)\n",
        "    # new_df=new_df.head(10000)\n",
        "    ratings_matrix = new_df.pivot_table(values='Rating', index='userId', columns='productId', fill_value=0)   \n",
        "    return ratings_matrix"
      ],
      "execution_count": 39,
      "outputs": []
    },
    {
      "cell_type": "code",
      "metadata": {
        "id": "rBsgevHL9jVu"
      },
      "source": [
        "def recommend(ratings_matrix, merged_df, p_id, correlation):\n",
        "    # Transpose the matrix\n",
        "    X = ratings_matrix.T\n",
        "    SVD = TruncatedSVD(n_components=10)\n",
        "    decomposed_matrix = SVD.fit_transform(X)\n",
        "\n",
        "    #Correlation Matrix: product to product correlation\n",
        "    correlation_matrix = np.corrcoef(decomposed_matrix)\n",
        "    # find the position of given product in the list of all products\n",
        "    product_names = list(X.index)\n",
        "    product_ID = product_names.index(p_id)\n",
        "    correlation_product_ID = correlation_matrix[product_ID]\n",
        "    recommend = list(X.index[correlation_product_ID > correlation])\n",
        "    # Removes the item already checked by the customer\n",
        "    recommend.remove(p_id) \n",
        "    results = merged_df[merged_df.asin.isin(recommend)].groupby(['asin','title','image_url'])['overall'].mean()\n",
        "    # results = results.sort_values('overall', ascending=False)\n",
        "    # # asin, title, image_url, overall\n",
        "    return results[:5]"
      ],
      "execution_count": 40,
      "outputs": []
    },
    {
      "cell_type": "markdown",
      "metadata": {
        "id": "V-dDt5svPmTj"
      },
      "source": [
        "Suppose to use \"ratings_Electronics.csv\" here for recommending, but it cost too much time to build up mtrix, here we used musical instruments dataset as an example."
      ]
    },
    {
      "cell_type": "code",
      "metadata": {
        "colab": {
          "base_uri": "https://localhost:8080/"
        },
        "id": "dH4fh2PuP3N_",
        "outputId": "4760ac84-54d0-4119-9939-205a5492c10c"
      },
      "source": [
        "!wget -nc http://snap.stanford.edu/data/amazon/productGraph/categoryFiles/ratings_Musical_Instruments.csv"
      ],
      "execution_count": 31,
      "outputs": [
        {
          "output_type": "stream",
          "text": [
            "--2020-12-12 00:00:46--  http://snap.stanford.edu/data/amazon/productGraph/categoryFiles/ratings_Musical_Instruments.csv\n",
            "Resolving snap.stanford.edu (snap.stanford.edu)... 171.64.75.80\n",
            "Connecting to snap.stanford.edu (snap.stanford.edu)|171.64.75.80|:80... connected.\n",
            "HTTP request sent, awaiting response... 200 OK\n",
            "Length: 20376609 (19M) [text/csv]\n",
            "Saving to: ‘ratings_Musical_Instruments.csv’\n",
            "\n",
            "ratings_Musical_Ins 100%[===================>]  19.43M  4.78MB/s    in 4.3s    \n",
            "\n",
            "2020-12-12 00:00:51 (4.56 MB/s) - ‘ratings_Musical_Instruments.csv’ saved [20376609/20376609]\n",
            "\n"
          ],
          "name": "stdout"
        }
      ]
    },
    {
      "cell_type": "code",
      "metadata": {
        "id": "pigyJjOz9xzN"
      },
      "source": [
        "ratings_matrix = get_rating_matrix(\"ratings_Musical_Instruments.csv\")"
      ],
      "execution_count": 33,
      "outputs": []
    },
    {
      "cell_type": "code",
      "metadata": {
        "colab": {
          "base_uri": "https://localhost:8080/"
        },
        "id": "DGLo0BvyOcyf",
        "outputId": "cbeff40d-67e0-47a9-e182-7264c92a1a6d"
      },
      "source": [
        "# assume customer is currently looking at product with id: \n",
        "p_id = 'B0002CZSJY'\n",
        "print(\"Recommend you may also like:\")\n",
        "recommend(ratings_matrix, df, p_id, 0.2)"
      ],
      "execution_count": 41,
      "outputs": [
        {
          "output_type": "stream",
          "text": [
            "Recommend you may also like:\n"
          ],
          "name": "stdout"
        },
        {
          "output_type": "execute_result",
          "data": {
            "text/plain": [
              "asin        title                                                                                                                                                                                                                                                                                                                                                                     image_url                                                    \n",
              "B00B95REMW  SoundBot&reg; SB330 Bluetooth 3.0 Universal Audio Receiver - stream ANY music from Bluetooth enabled media player to speaker or docking station with 30 pin connector. Plug &amp; Play for Apple Docking Stations. Compatible with the New Iphone 5, Ipad 4 Mini, Other Idevices, Mp3 Bluetooth Player, Tablet, and Even Andriod or Other Smartphones w/ A2DP and AVRCP.  http://ecx.images-amazon.com/images/I/31fVkiLFkyL._SX300_.jpg    3.857143\n",
              "Name: overall, dtype: float64"
            ]
          },
          "metadata": {
            "tags": []
          },
          "execution_count": 41
        }
      ]
    }
  ]
}